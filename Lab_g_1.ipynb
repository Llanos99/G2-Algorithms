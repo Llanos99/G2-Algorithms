{
  "nbformat": 4,
  "nbformat_minor": 0,
  "metadata": {
    "colab": {
      "provenance": [],
      "collapsed_sections": [],
      "mount_file_id": "1aqwgAflvGCRGfOZwL9qANZkS28UDFHRB",
      "authorship_tag": "ABX9TyOTfIRxBcAwE6EMTnWmXbH6",
      "include_colab_link": true
    },
    "kernelspec": {
      "name": "python3",
      "display_name": "Python 3"
    },
    "language_info": {
      "name": "python"
    }
  },
  "cells": [
    {
      "cell_type": "markdown",
      "metadata": {
        "id": "view-in-github",
        "colab_type": "text"
      },
      "source": [
        "<a href=\"https://colab.research.google.com/github/Llanos99/G2-Algorithms/blob/main/Lab_g_1.ipynb\" target=\"_parent\"><img src=\"https://colab.research.google.com/assets/colab-badge.svg\" alt=\"Open In Colab\"/></a>"
      ]
    },
    {
      "cell_type": "markdown",
      "source": [
        "# ***Brute force algorithms***\n",
        "\n",
        "***Integrantes :*** \n",
        "\n",
        "***1.*** Anderson Andres Llanos Quintero\n",
        "\n",
        "***2.*** Santiago Tovar Mosquera\n",
        "\n",
        "***3.*** Camilo Andres Cardenas Vargas\n",
        "\n",
        "***4.*** Brayan Daniel Romero Ardila\n",
        "\n",
        "***5.*** Daniel Felipe Quiroga Parra\n"
      ],
      "metadata": {
        "id": "-SQSUsCzx0q5"
      }
    },
    {
      "cell_type": "markdown",
      "source": [
        "***Nota :*** Al correr este programa, poner la direccion en la que se encuentra el archivo sequence_Covid-19.fasta una vez descargado en su computador. No correra de otra forma."
      ],
      "metadata": {
        "id": "PxgNis6Ipjt-"
      }
    },
    {
      "cell_type": "code",
      "execution_count": 7,
      "metadata": {
        "id": "TRI_r8nkpgJ5"
      },
      "outputs": [],
      "source": [
        "import pprint\n",
        "\n",
        "with open('/content/drive/MyDrive/sequence_Covid-19.fasta') as f:\n",
        "    lines = f.readlines()"
      ]
    },
    {
      "cell_type": "markdown",
      "source": [
        "Creamos la secuencia que analizaremos y inicializaremos el patron que buscaremos en la secuencia."
      ],
      "metadata": {
        "id": "hlLdy4o7p5wL"
      }
    },
    {
      "cell_type": "code",
      "source": [
        "secuence = ''\n",
        "\n",
        "for l in lines[1:]:\n",
        "  secuence += l[:-1]\n",
        "\n",
        "sequence_to_find = 'ATACCTTCACACTCAA'"
      ],
      "metadata": {
        "id": "C-OheOiorYLy"
      },
      "execution_count": 8,
      "outputs": []
    },
    {
      "cell_type": "markdown",
      "source": [
        "# ***Algoritmo***\n",
        "\n",
        "La idea del algoritmo es la siguiente : Creamos un apuntador, possible_index, y comparamos si este coincide con la primera letra de nuestra patron a buscar, pattern. Si no coincide, le sumamos + 1 a possible_index, para que se mueva a la derecha en nuestro String de busqueda. En caso de que coincida, creamos un nuevo apuntador que se llamara check_next, este nos ayudara a verificar si los elementos que siguen al primero tambien coinciden. En caso de que vayan coincidiendo, continuamos el bucle o, en caso de que nuestro contador de tamano count sea igual a len(pattern), paramos. Si en algun momento nuestro check_next falla, es porque nuestro apuntador inicial possible_index no es el indicado, de modo que nuevamente hacemos possible_index++. Cuando se encuentre el patron en la cadena de busqueda, anadimos a la lista list_appearences y reiniciamos el proceso hasta que possible_index haya recorrido todo el String a analizar."
      ],
      "metadata": {
        "id": "czJaOzxprdNT"
      }
    },
    {
      "cell_type": "code",
      "source": [
        "def find_pattern(string, pattern):\n",
        "    first_index = 0 # O(1)\n",
        "    possible_index = 0  # O(1)\n",
        "    keep_searching = True   # O(1)\n",
        "    count = 0   # O(1)\n",
        "    list_appearences = []   # O(1)\n",
        "    global final_first_appearence   # O(1). Esta variable global nos sirve para saber en que momento termina la \n",
        "                                    # primera aparicion del patron en el String.\n",
        "    no_search_more = False          # O(1), nor sirve para saber en que posicion acaba la PRIMERA aparicion del patron.\n",
        "    while keep_searching == True:   # O(n), donde n = len(String). Ya que possible_index tiene que recorrer todo el String.\n",
        "        if (len(string) - possible_index) < len(pattern):   # O(1), Una condicion para romper el bucle, con esta condicion nos aseguramos\n",
        "                                                            # de que no habran mas apariciones del patron buscado en el String.\n",
        "                keep_searching = False                      # O(1)\n",
        "                break                                       # O(1) \n",
        "        if string[possible_index] == pattern[count]:        # O(1), verificamos que la letra del String en la posicion possible_index \n",
        "                                                            # coincida con la primera letra del patron buscado.\n",
        "            for check_next in range(possible_index + 1, len(string)):   # O(n), comparamos el resto de las leras del patron a buscar.\n",
        "                count+=1                                    # O(1), count nos sirve como el apuntador que hace el checkeo de si todas las \n",
        "                                                            # comparaciones se satisfacen en el patron.\n",
        "                if string[check_next] == pattern[count]:    # O(1), comparamos.\n",
        "                    if count == len(pattern) - 1:           # O(1), todo se satisfajo y encontramos la primera aparicion del patron en el String.\n",
        "                        first_index = possible_index        # O(1), Guardamos la aparicion\n",
        "                        list_appearences.append(first_index)     # O(1), Anadimos a la lista de apariciones\n",
        "                        if no_search_more == False:         # O*1), Para anadir la posicion final de la primera aparicion del patron.\n",
        "                            final_first_appearence = first_index + count    # O(1)\n",
        "                            no_search_more = True           # O(1), La volvemos True para no volver a usarla mas.\n",
        "                        possible_index += count + 1         # O(1), reasigamos el puntero possible_index para repetir la tarea.\n",
        "                        count = 0                           # O(1), reiniciamos el contador.     \n",
        "                        break                               # O(1), Rompemos el For.\n",
        "                    else:\n",
        "                        continue                            # O(1), si la longitud del patron aun no es alcanzada pero van siendo iguales\n",
        "                                                            # leta por letra, continue.\n",
        "\n",
        "                else:                                       # Si no coincide algun string[check_next] con pattern[count], entonces nuestro \n",
        "                                                            # candidado possible_index no es el indicado, reseteamos count y hacemos possible_index++.\n",
        "                    count = 0                               # O(1)  \n",
        "                    possible_index += 1                     # O(1)    \n",
        "                    break                                   # O(1)  \n",
        "        else:                                               # Si string[possible_index] no coincide con la primera letra del patron, \n",
        "                                                            # sumamos  +1 a possible_index y volvemos a iterar.\n",
        "            possible_index += 1\n",
        "\n",
        "    if not list_appearences:                                # O(1), si la lista es vacia, retornamos [-1]. Esto quiere decir que no hubo\n",
        "                                                            # ninguna ocurrencia del patron en el string a analizar.\n",
        "        final_first_appearence = -1                         # O(1)\n",
        "        list_appearences.append(-1)                         # O(1)\n",
        "\n",
        "    return list_appearences                                 # O(1)"
      ],
      "metadata": {
        "id": "AR3khqN_r4bE"
      },
      "execution_count": 9,
      "outputs": []
    },
    {
      "cell_type": "markdown",
      "source": [
        "# ***Output***\n",
        "\n",
        "El algoritmo anterior nos arroja entonces una lista, list_appearences, con las indices iniciales del string en los que se encuentran las apariciones del patron. Cuando no hay apariciones, nos retorna `[-1]`."
      ],
      "metadata": {
        "id": "gjKC6czmr-Rm"
      }
    },
    {
      "cell_type": "markdown",
      "source": [
        "# ***Complejidad***\n",
        "\n",
        "Complejidad : `7*O(1) + O(n)*[O(1)[[2*O(1)]] + O(1)*O(n)[O(1) + O(1)[6*O(1) + O(1)[2*O(1)]] + O(1)] + O(1) + O(1)*3*O(1)] + O(1)] + O(1)*2*O(1) + O(1).`\n",
        "\n",
        "Reduciendo gracias a las propiedades del Big O, tenemos que `Tiempo_Complejidad = O(n^2)`, donde `n = len(String)`."
      ],
      "metadata": {
        "id": "U1ZzK-_isNgj"
      }
    },
    {
      "cell_type": "markdown",
      "source": [
        "# ***Testing***\n",
        "\n",
        "Creamos una breve aplicación del programa para encontrar la posición (si es que existe), de nuestro  patron `sequence_to_find` en nuestro string `secuence`."
      ],
      "metadata": {
        "id": "NxjHVlursaUd"
      }
    },
    {
      "cell_type": "code",
      "source": [
        "testing = find_pattern(secuence, sequence_to_find)\n",
        "print('First appearence at : ' + str(testing[0]))\n",
        "print('End of the first appearence at : ' + str(final_first_appearence))\n",
        "if testing[0] != -1:\n",
        "    print('There are ' + str(len(testing)) + ' ocurrences of the pattern. The positions are ' + str(testing))"
      ],
      "metadata": {
        "colab": {
          "base_uri": "https://localhost:8080/"
        },
        "id": "GAqw_1TIspcn",
        "outputId": "4dfbc255-08a7-489e-85d2-f71512ef6644"
      },
      "execution_count": 10,
      "outputs": [
        {
          "output_type": "stream",
          "name": "stdout",
          "text": [
            "First appearence at : 2696\n",
            "End of the first appearence at : 2711\n",
            "There are 1 ocurrences of the pattern. The positions are [2696]\n"
          ]
        }
      ]
    }
  ]
}